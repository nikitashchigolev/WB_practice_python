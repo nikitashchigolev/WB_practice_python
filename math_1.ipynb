{
 "cells": [
  {
   "cell_type": "markdown",
   "id": "d7d915a2-4176-4701-b207-458861923348",
   "metadata": {},
   "source": [
    "Транспонирование матрицы без использования numpy и других библиотек"
   ]
  },
  {
   "cell_type": "code",
   "execution_count": 18,
   "id": "6f4de4dc-68b2-48d0-81d6-ad4de2209b77",
   "metadata": {},
   "outputs": [],
   "source": [
    "def transpose(matrix):\n",
    "    transposed = []\n",
    "    for j in range(len(matrix[0])):\n",
    "        tmp = []\n",
    "        for i in range(len(matrix)):\n",
    "            tmp = tmp + [matrix[i][j]]\n",
    "        transposed += [tmp]\n",
    "    return transposed"
   ]
  },
  {
   "cell_type": "code",
   "execution_count": 22,
   "id": "526a037a-48da-4bd5-bb75-7e9a7be7f893",
   "metadata": {},
   "outputs": [
    {
     "name": "stdout",
     "output_type": "stream",
     "text": [
      "1 4 7 \n",
      "2 5 8 \n",
      "3 6 9 \n",
      "[[1, 4, 7], [2, 5, 8], [3, 6, 9]]\n"
     ]
    }
   ],
   "source": [
    "matrix = [[1, 2, 3], \n",
    "          [4, 5, 6], \n",
    "          [7, 8, 9]]\n",
    "\n",
    "tm = transpose(matrix)\n",
    "\n",
    "for i in range(len(matrix)):\n",
    "\tfor j in range(len(matrix[0])):\n",
    "\t\tprint(tm[i][j], end=' ')\n",
    "\tprint()\n",
    "print(tm)"
   ]
  },
  {
   "cell_type": "markdown",
   "id": "55012eb0-b754-4c3d-a986-2aa2356cd9a3",
   "metadata": {},
   "source": [
    "Транспонирование с помощью numpy"
   ]
  },
  {
   "cell_type": "code",
   "execution_count": 20,
   "id": "3aad8ebc-95ef-4957-93e2-0e449b4670f6",
   "metadata": {},
   "outputs": [],
   "source": [
    "import numpy as np\n",
    "matrix = np.array([[1, 2, 3],\n",
    "                   [4, 5, 6],\n",
    "                   [7, 8, 9]])"
   ]
  },
  {
   "cell_type": "code",
   "execution_count": 21,
   "id": "6d378bb1-40b4-410c-8c3d-a1e88f68032d",
   "metadata": {},
   "outputs": [
    {
     "name": "stdout",
     "output_type": "stream",
     "text": [
      "[[1 4 7]\n",
      " [2 5 8]\n",
      " [3 6 9]]\n"
     ]
    }
   ],
   "source": [
    "tm_np = np.transpose(matrix)\n",
    "print(tm_np)"
   ]
  },
  {
   "cell_type": "markdown",
   "id": "abf997b1-67d0-4094-8da8-cc7d870d4f78",
   "metadata": {},
   "source": [
    "Умножение транспонированного input_vector на weights_matrix"
   ]
  },
  {
   "cell_type": "code",
   "execution_count": 34,
   "id": "c79be9ab-d2fd-4ff3-9058-f3cab110e2e0",
   "metadata": {},
   "outputs": [
    {
     "name": "stdout",
     "output_type": "stream",
     "text": [
      "[[0.64106741 0.51749286]]\n"
     ]
    }
   ],
   "source": [
    "def sigmoid(x):\n",
    "    return 1 / (1 + np.exp(-x))\n",
    "\n",
    "input_vector = np.array([[0.5], \n",
    "                         [0.8]])\n",
    "\n",
    "weights_matrix = np.array([[0.2, 0.3], \n",
    "                           [0.6, -0.1]])\n",
    "\n",
    "hidden_layer_output = sigmoid(np.dot(np.transpose(input_vector), weights_matrix))\n",
    "\n",
    "print(hidden_layer_output)"
   ]
  },
  {
   "cell_type": "markdown",
   "id": "5eb1ecb6-5c0f-45c2-892e-2bc90135fd71",
   "metadata": {},
   "source": [
    "Используя матричные операции, найдем веса линейной регрессии"
   ]
  },
  {
   "cell_type": "code",
   "execution_count": 40,
   "id": "f9470a1d-06cd-41cd-b4d1-8749504055e7",
   "metadata": {},
   "outputs": [],
   "source": [
    "import numpy as np\n",
    "\n",
    "def compute_weights(X, y):\n",
    "    xtx = X.T @ X\n",
    "\n",
    "    if np.linalg.det(xtx) == 0:\n",
    "        raise ValueError(\"Матрица X^T X необратима. Проверьте наличие коллинеарных признаков.\")\n",
    "    w = xtx @ X.T @ y\n",
    "    return w"
   ]
  },
  {
   "cell_type": "code",
   "execution_count": 41,
   "id": "5c7714c6-f4b6-431f-bc7d-ddc60fe69703",
   "metadata": {},
   "outputs": [
    {
     "ename": "ValueError",
     "evalue": "Матрица X^T X необратима. Проверьте наличие коллинеарных признаков.",
     "output_type": "error",
     "traceback": [
      "\u001b[0;31m---------------------------------------------------------------------------\u001b[0m",
      "\u001b[0;31mValueError\u001b[0m                                Traceback (most recent call last)",
      "Cell \u001b[0;32mIn[41], line 12\u001b[0m\n\u001b[1;32m      1\u001b[0m X \u001b[38;5;241m=\u001b[39m np\u001b[38;5;241m.\u001b[39marray([\n\u001b[1;32m      2\u001b[0m     [\u001b[38;5;241m1\u001b[39m, \u001b[38;5;241m2\u001b[39m, \u001b[38;5;241m3\u001b[39m, \u001b[38;5;241m6\u001b[39m, \u001b[38;5;241m5\u001b[39m, \u001b[38;5;241m6\u001b[39m],\n\u001b[1;32m      3\u001b[0m     [\u001b[38;5;241m2\u001b[39m, \u001b[38;5;241m4\u001b[39m, \u001b[38;5;241m2\u001b[39m, \u001b[38;5;241m4\u001b[39m, \u001b[38;5;241m6\u001b[39m, \u001b[38;5;241m7\u001b[39m],\n\u001b[0;32m   (...)\u001b[0m\n\u001b[1;32m      7\u001b[0m     [\u001b[38;5;241m6\u001b[39m, \u001b[38;5;241m12\u001b[39m, \u001b[38;5;241m1\u001b[39m, \u001b[38;5;241m2\u001b[39m, \u001b[38;5;241m10\u001b[39m, \u001b[38;5;241m11\u001b[39m]\n\u001b[1;32m      8\u001b[0m ])\n\u001b[1;32m     11\u001b[0m y \u001b[38;5;241m=\u001b[39m np\u001b[38;5;241m.\u001b[39mrandom\u001b[38;5;241m.\u001b[39mrand(\u001b[38;5;241m6\u001b[39m, \u001b[38;5;241m1\u001b[39m)\n\u001b[0;32m---> 12\u001b[0m weights \u001b[38;5;241m=\u001b[39m \u001b[43mcompute_weights\u001b[49m\u001b[43m(\u001b[49m\u001b[43mX\u001b[49m\u001b[43m,\u001b[49m\u001b[43m \u001b[49m\u001b[43my\u001b[49m\u001b[43m)\u001b[49m\n\u001b[1;32m     13\u001b[0m \u001b[38;5;28mprint\u001b[39m(weights)\n",
      "Cell \u001b[0;32mIn[40], line 7\u001b[0m, in \u001b[0;36mcompute_weights\u001b[0;34m(X, y)\u001b[0m\n\u001b[1;32m      4\u001b[0m xtx \u001b[38;5;241m=\u001b[39m X\u001b[38;5;241m.\u001b[39mT \u001b[38;5;241m@\u001b[39m X\n\u001b[1;32m      6\u001b[0m \u001b[38;5;28;01mif\u001b[39;00m np\u001b[38;5;241m.\u001b[39mlinalg\u001b[38;5;241m.\u001b[39mdet(xtx) \u001b[38;5;241m==\u001b[39m \u001b[38;5;241m0\u001b[39m:\n\u001b[0;32m----> 7\u001b[0m     \u001b[38;5;28;01mraise\u001b[39;00m \u001b[38;5;167;01mValueError\u001b[39;00m(\u001b[38;5;124m\"\u001b[39m\u001b[38;5;124mМатрица X^T X необратима. Проверьте наличие коллинеарных признаков.\u001b[39m\u001b[38;5;124m\"\u001b[39m)\n\u001b[1;32m      8\u001b[0m w \u001b[38;5;241m=\u001b[39m xtx \u001b[38;5;241m@\u001b[39m X\u001b[38;5;241m.\u001b[39mT \u001b[38;5;241m@\u001b[39m y\n\u001b[1;32m      9\u001b[0m \u001b[38;5;28;01mreturn\u001b[39;00m w\n",
      "\u001b[0;31mValueError\u001b[0m: Матрица X^T X необратима. Проверьте наличие коллинеарных признаков."
     ]
    }
   ],
   "source": [
    "X = np.array([\n",
    "    [1, 2, 3, 6, 5, 6],\n",
    "    [2, 4, 2, 4, 6, 7],\n",
    "    [3, 6, 4, 8, 7, 8],\n",
    "    [4, 8, 3, 6, 8, 9],\n",
    "    [5, 10, 5, 10, 9, 10],\n",
    "    [6, 12, 1, 2, 10, 11]\n",
    "])\n",
    "\n",
    "\n",
    "y = np.random.rand(6, 1)\n",
    "weights = compute_weights(X, y)\n",
    "print(weights)"
   ]
  },
  {
   "cell_type": "code",
   "execution_count": 67,
   "id": "f2ba6c98-9533-4a72-aa18-93abfa3d5e9e",
   "metadata": {},
   "outputs": [
    {
     "ename": "ValueError",
     "evalue": "Матрица X^T X необратима. Проверьте наличие коллинеарных признаков.",
     "output_type": "error",
     "traceback": [
      "\u001b[0;31m---------------------------------------------------------------------------\u001b[0m",
      "\u001b[0;31mValueError\u001b[0m                                Traceback (most recent call last)",
      "Cell \u001b[0;32mIn[67], line 12\u001b[0m\n\u001b[1;32m      1\u001b[0m X1 \u001b[38;5;241m=\u001b[39m np\u001b[38;5;241m.\u001b[39marray([\n\u001b[1;32m      2\u001b[0m     [\u001b[38;5;241m1\u001b[39m, \u001b[38;5;241m2\u001b[39m, \u001b[38;5;241m3\u001b[39m, \u001b[38;5;241m4\u001b[39m, \u001b[38;5;241m5\u001b[39m, \u001b[38;5;241m6\u001b[39m],\n\u001b[1;32m      3\u001b[0m     [\u001b[38;5;241m2\u001b[39m, \u001b[38;5;241m4\u001b[39m, \u001b[38;5;241m2\u001b[39m, \u001b[38;5;241m8\u001b[39m, \u001b[38;5;241m6\u001b[39m, \u001b[38;5;241m7\u001b[39m],\n\u001b[0;32m   (...)\u001b[0m\n\u001b[1;32m      7\u001b[0m     [\u001b[38;5;241m6\u001b[39m, \u001b[38;5;241m12\u001b[39m, \u001b[38;5;241m1\u001b[39m, \u001b[38;5;241m24\u001b[39m, \u001b[38;5;241m10\u001b[39m, \u001b[38;5;241m11\u001b[39m]\n\u001b[1;32m      8\u001b[0m ])\n\u001b[1;32m     11\u001b[0m y1 \u001b[38;5;241m=\u001b[39m np\u001b[38;5;241m.\u001b[39mrandom\u001b[38;5;241m.\u001b[39mrand(\u001b[38;5;241m6\u001b[39m, \u001b[38;5;241m1\u001b[39m)\n\u001b[0;32m---> 12\u001b[0m weights \u001b[38;5;241m=\u001b[39m \u001b[43mcompute_weights\u001b[49m\u001b[43m(\u001b[49m\u001b[43mX1\u001b[49m\u001b[43m,\u001b[49m\u001b[43m \u001b[49m\u001b[43my1\u001b[49m\u001b[43m)\u001b[49m\n",
      "Cell \u001b[0;32mIn[40], line 7\u001b[0m, in \u001b[0;36mcompute_weights\u001b[0;34m(X, y)\u001b[0m\n\u001b[1;32m      4\u001b[0m xtx \u001b[38;5;241m=\u001b[39m X\u001b[38;5;241m.\u001b[39mT \u001b[38;5;241m@\u001b[39m X\n\u001b[1;32m      6\u001b[0m \u001b[38;5;28;01mif\u001b[39;00m np\u001b[38;5;241m.\u001b[39mlinalg\u001b[38;5;241m.\u001b[39mdet(xtx) \u001b[38;5;241m==\u001b[39m \u001b[38;5;241m0\u001b[39m:\n\u001b[0;32m----> 7\u001b[0m     \u001b[38;5;28;01mraise\u001b[39;00m \u001b[38;5;167;01mValueError\u001b[39;00m(\u001b[38;5;124m\"\u001b[39m\u001b[38;5;124mМатрица X^T X необратима. Проверьте наличие коллинеарных признаков.\u001b[39m\u001b[38;5;124m\"\u001b[39m)\n\u001b[1;32m      8\u001b[0m w \u001b[38;5;241m=\u001b[39m xtx \u001b[38;5;241m@\u001b[39m X\u001b[38;5;241m.\u001b[39mT \u001b[38;5;241m@\u001b[39m y\n\u001b[1;32m      9\u001b[0m \u001b[38;5;28;01mreturn\u001b[39;00m w\n",
      "\u001b[0;31mValueError\u001b[0m: Матрица X^T X необратима. Проверьте наличие коллинеарных признаков."
     ]
    }
   ],
   "source": [
    "X1 = np.array([\n",
    "    [1, 2, 3, 4, 5, 6],\n",
    "    [2, 4, 2, 8, 6, 7],\n",
    "    [3, 6, 4, 12, 7, 8],\n",
    "    [4, 8, 3, 16, 8, 9],\n",
    "    [5, 10, 5, 20, 9, 10],\n",
    "    [6, 12, 1, 24, 10, 11]\n",
    "])\n",
    "\n",
    "\n",
    "y1 = np.random.rand(6, 1)\n",
    "weights = compute_weights(X1, y1)"
   ]
  },
  {
   "cell_type": "markdown",
   "id": "58bbefdb-4a99-4a78-8f16-819c7ca0faf2",
   "metadata": {},
   "source": [
    "Способ, который может у любой матрицы X найти линейно зависимые столбцы"
   ]
  },
  {
   "cell_type": "code",
   "execution_count": 158,
   "id": "2fdc0dd3-d253-4d61-9cb8-a08b4b9fc56f",
   "metadata": {},
   "outputs": [
    {
     "name": "stdout",
     "output_type": "stream",
     "text": [
      "Столбец 0 коллинеарен со столбцом 1 с параметром пропорциональности 2.0\n",
      "Столбец 0 коллинеарен со столбцом 3 с параметром пропорциональности 4.0\n",
      "Столбец 1 коллинеарен со столбцом 3 с параметром пропорциональности 2.0\n"
     ]
    }
   ],
   "source": [
    "def find_collinear_columns(X):\n",
    "    X = np.array(X)\n",
    "    num_cols = X.shape[1]\n",
    "    collinear_indices = {}\n",
    "    \n",
    "    for i in range(num_cols):\n",
    "        for j in range(i + 1, num_cols):\n",
    "            # Находим параметр пропорциональности\n",
    "            proportionality = np.dot(X[:, i], X[:, j]) / np.dot(X[:, i], X[:, i])\n",
    "            \n",
    "            # Проверяем, являются ли столбцы коллинеарными с некоторой погрешностью\n",
    "            if np.allclose(proportionality * X[:, i], X[:, j], rtol=1e-10):\n",
    "                if i in collinear_indices:\n",
    "                    collinear_indices[i].append((j, proportionality))\n",
    "                else:\n",
    "                    collinear_indices[i] = [(j, proportionality)]\n",
    "\n",
    "    return collinear_indices\n",
    "\n",
    "X1 = np.array([\n",
    "    [1, 2, 3, 4, 5, 6],\n",
    "    [2, 4, 2, 8, 6, 7],\n",
    "    [3, 6, 4, 12, 7, 8],\n",
    "    [4, 8, 3, 16, 8, 9],\n",
    "    [5, 10, 5, 20, 9, 10],\n",
    "    [6, 12, 1, 24, 10, 11]\n",
    "])\n",
    "\n",
    "collinear_indices = find_collinear_columns(X1)\n",
    "\n",
    "for key, value in collinear_indices.items():\n",
    "    for idx, proportionality in value:\n",
    "        print(f\"Столбец {key} коллинеарен со столбцом {idx} с параметром пропорциональности {proportionality}\")"
   ]
  },
  {
   "cell_type": "markdown",
   "id": "9dc0de07-c2e3-4f60-8175-ce427e614777",
   "metadata": {},
   "source": [
    "Также стоит добавить, что помочь решить проблему мультиколлинеарности может регуляризация линейной модели. К оптимизируемому функционалу прибавляют L1 или L2 норму весов, умноженную на коэффициент регуляризации. В первом случае метод называется Lasso, а во втором - Ridge. С помощью коэффициента регуляризации α можно уменьшить большие по модулю веса при линейно-зависимых признаках. Для устранения мультиколлинеарности используется отбор признаков. Устранение мультиколлинеарных факторов из модели регрессии является одним из методов повышения точности прогноза.С другой стороны при регуляризации алгоритм содержит параметры, которые необходимо оценивать дополнительно."
   ]
  },
  {
   "cell_type": "markdown",
   "id": "d887b709-b7ba-4dcc-9e7f-be90f332c7d2",
   "metadata": {},
   "source": [
    "Код решения матричного уравнения AX=B"
   ]
  },
  {
   "cell_type": "code",
   "execution_count": 85,
   "id": "1bdebef8-dd5f-4f1a-93b3-16b02cebd11d",
   "metadata": {},
   "outputs": [
    {
     "name": "stdout",
     "output_type": "stream",
     "text": [
      "Матрица X:\n",
      "[[-3. -4.]\n",
      " [ 4.  5.]]\n"
     ]
    }
   ],
   "source": [
    "A = np.array([[1, 2], [3, 4]])\n",
    "B = np.array([[5, 6], [7, 8]])\n",
    "X = np.dot(np.linalg.inv(A), B) \n",
    "\n",
    "# или же так\n",
    "# X = np.linalg.solve(A, B)\n",
    "\n",
    "print(\"Матрица X:\")\n",
    "print(X)"
   ]
  },
  {
   "cell_type": "code",
   "execution_count": 108,
   "id": "f517faf8-faf5-48c2-a529-aa478fbcec6e",
   "metadata": {},
   "outputs": [
    {
     "name": "stdout",
     "output_type": "stream",
     "text": [
      "Собственные значения:\n",
      "[3.5+1.32287566j 3.5-1.32287566j]\n",
      "\n",
      "Собственные векторы:\n",
      "[[0.81649658+0.j         0.81649658-0.j        ]\n",
      " [0.20412415-0.54006172j 0.20412415+0.54006172j]]\n"
     ]
    }
   ],
   "source": [
    "import numpy as np\n",
    "\n",
    "A = np.array([[4, -2],\n",
    "              [1,  3]])\n",
    "\n",
    "eigenvalues, eigenvectors = np.linalg.eig(A)\n",
    "\n",
    "print(\"Собственные значения:\")\n",
    "print(eigenvalues)\n",
    "print(\"\\nСобственные векторы:\")\n",
    "print(eigenvectors)"
   ]
  },
  {
   "cell_type": "markdown",
   "id": "63654ffc-b52c-48e7-bae9-1c1b4b379e5b",
   "metadata": {},
   "source": [
    "Собственные значения и собственные векторы могут быть комплексными, даже если матрица состоит из вещественных чисел, потому что они определяются решениями характеристического уравнения, которое может давать комплексные корни. Характеристическое уравнение выглядит следующим образом:\n",
    "det(A - λI) = 0,\n",
    "где A - это матрица, λ - собственное значение, а I - единичная матрица. Решая это уравнение, получим квадратное уравнение относительно λ, которое может иметь комплексные корни, как в нашем случае:\n",
    "Характеристическое уравнение для этой матрицы выглядит так:\n",
    "det(A - λI) = det([[4 - λ, -2], [1, 3 - λ]]) = (4 - λ)(3 - λ) - (-2)(1) = λ^2 - 7λ + 14 = 0\n",
    "Дискриминант D = b^2 - 4ac, где a = 1, b = -7, c = 14\n",
    "D = (-7)^2 - 4(1)(14) = 49 - 56 = -7\n",
    "Дискриминант отрицателен. Это значит, что уравнение имеет комплексные корни.\n",
    "λ = (-b ± √D) / 2a\n",
    "λ1 = (7 + √7i) / 2\n",
    "λ2 = (7 - √7i) / 2\n",
    "И это соответствует нашим собственным значениям:\n",
    "λ1 = 3.5 + 1.32287566j\n",
    "λ2 = 3.5 - 1.32287566j\n",
    "А комплексные собственные векторы являются естественным следствием комплексных собственных значений, поскольку собственные векторы соответствуют решениям уравнения (A - λI)x = 0 для каждого собственного значения λ."
   ]
  },
  {
   "cell_type": "code",
   "execution_count": null,
   "id": "384fc805-63db-48d4-9bcf-9dc1b7b00ef1",
   "metadata": {},
   "outputs": [],
   "source": []
  }
 ],
 "metadata": {
  "kernelspec": {
   "display_name": "Python 3 (ipykernel)",
   "language": "python",
   "name": "python3"
  },
  "language_info": {
   "codemirror_mode": {
    "name": "ipython",
    "version": 3
   },
   "file_extension": ".py",
   "mimetype": "text/x-python",
   "name": "python",
   "nbconvert_exporter": "python",
   "pygments_lexer": "ipython3",
   "version": "3.11.5"
  }
 },
 "nbformat": 4,
 "nbformat_minor": 5
}
